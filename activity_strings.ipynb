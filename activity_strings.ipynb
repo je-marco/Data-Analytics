{
 "cells": [
  {
   "cell_type": "code",
   "execution_count": 1,
   "id": "d291e118-4598-4d53-a059-afb058b1c144",
   "metadata": {},
   "outputs": [
    {
     "data": {
      "text/plain": [
       "str"
      ]
     },
     "execution_count": 1,
     "metadata": {},
     "output_type": "execute_result"
    }
   ],
   "source": [
    "store_id = 1101\n",
    "\n",
    "# 1. \n",
    "store_id = str(store_id)\n",
    "# 2.\n",
    "type(store_id)\n"
   ]
  },
  {
   "cell_type": "code",
   "execution_count": 91,
   "id": "c0ae68e4-36b6-40e4-b787-3a607f6d7ecf",
   "metadata": {},
   "outputs": [
    {
     "data": {
      "text/plain": [
       "'Invalid ZIP Code.'"
      ]
     },
     "execution_count": 91,
     "metadata": {},
     "output_type": "execute_result"
    }
   ],
   "source": [
    "'''\n",
    "Define a function called zip_checker\n",
    "    Arguments: \n",
    "        zipcode = a string with either four or five characters\n",
    "    Return: \n",
    "        1a. zipcode as string - if zipcode has five characters, and the first two chacteres are NOT '00'\n",
    "        1.b Invalid ZIP Code - do not begin with 00 in the mainland US\n",
    "\n",
    "        2. If zipcode has four characters and the first character is NOT '0', the function must add a zero to the \n",
    "        beginning of the string and return the five-character zipcode as a string\n",
    "\n",
    "        3. If zipcode has four characters and the first character is '0', the function must return \n",
    "        'Invalid ZIP Code.'\n",
    "'''\n",
    "def zip_checker(zipcode):\n",
    "    # conditions\n",
    "    if len(zipcode) == 5 and zipcode[0:2] != '00':            # if zipcode has 5 characters and zipcode begins with 00, Invalid dapat\n",
    "        zipcode = zipcode\n",
    "    elif len(zipcode) == 4 and zipcode[0] != '0':          # if zipcode has 4 characters\n",
    "        zipcode = '0' + zipcode\n",
    "    else:                            \n",
    "        zipcode = 'Invalid ZIP Code.'\n",
    "    \n",
    "    # output of the function\n",
    "    return zipcode\n",
    "\n",
    "# check your code \n",
    "zip_checker('00280')"
   ]
  },
  {
   "cell_type": "code",
   "execution_count": 42,
   "id": "3b3d8a1f-b558-4ea8-adaa-2db788df782b",
   "metadata": {},
   "outputs": [
    {
     "data": {
      "text/plain": [
       "'00011'"
      ]
     },
     "execution_count": 42,
     "metadata": {},
     "output_type": "execute_result"
    }
   ],
   "source": [
    "def try_zipcode(zipcode):\n",
    "    if zipcode[0] == 0:\n",
    "        print('Invalid ZIP Code')\n",
    "    else:\n",
    "        zipcode = '0' + str(zipcode)\n",
    "    return zipcode\n",
    "\n",
    "try_zipcode('0011')"
   ]
  },
  {
   "cell_type": "code",
   "execution_count": 84,
   "id": "f3069d52-d343-4d49-a600-07e093f97c01",
   "metadata": {},
   "outputs": [
    {
     "data": {
      "text/plain": [
       "'0'"
      ]
     },
     "execution_count": 84,
     "metadata": {},
     "output_type": "execute_result"
    }
   ],
   "source": [
    "zipcode = '00123'\n",
    "zipcode[0]"
   ]
  },
  {
   "cell_type": "code",
   "execution_count": 38,
   "id": "6f3644e6-73f6-4795-ac13-a965cf1a389b",
   "metadata": {},
   "outputs": [
    {
     "data": {
      "text/plain": [
       "'r626c36'"
      ]
     },
     "execution_count": 38,
     "metadata": {},
     "output_type": "execute_result"
    }
   ],
   "source": [
    "# The correct URL protocol is https: \n",
    "# A valid store ID must have exactly seven characters\n",
    "# function\n",
    "def url_checker(url):\n",
    "    split_url= url.split('/')       # split the url to be able to save the variables\n",
    "    protocol = split_url[0]\n",
    "    store_id = split_url[3]\n",
    "    # condition 1\n",
    "    if protocol != 'https:' and len(store_id) != 7:\n",
    "        print(protocol + ' is an invalid protocol.')\n",
    "        print(store_id + ' is an invalid store ID.')\n",
    "    # condition 2\n",
    "    elif protocol != 'https:' and len(store_id) == 7:\n",
    "        print(protocol + ' is an invalid protocol.')\n",
    "    # condition 3\n",
    "    elif protocol == 'https:' and len(store_id) != 7:\n",
    "        print(store_id + ' is an invalid store ID.')\n",
    "    # condition 4\n",
    "    else: \n",
    "        return store_id\n",
    "\n",
    "\n",
    "\n",
    "\n",
    "# check your function\n",
    "url_checker('https://exampleURL1.com/r626c36')"
   ]
  },
  {
   "cell_type": "code",
   "execution_count": 25,
   "id": "251f4755-4507-400f-a8b6-fc79f6743209",
   "metadata": {},
   "outputs": [
    {
     "name": "stdout",
     "output_type": "stream",
     "text": [
      "https: is an invalid protocol\n",
      "r626c36 is an invalid store ID\n"
     ]
    }
   ],
   "source": [
    "url = \"https://exampleURL1.com/r626c36\"\n",
    "split_url= url.split('/')\n",
    "protocol = split_url[0]\n",
    "store_id = split_url[3]\n",
    "print(protocol + ' is an invalid protocol')\n",
    "print(store_id + ' is an invalid store ID')\n",
    " \n",
    "\n"
   ]
  },
  {
   "cell_type": "code",
   "execution_count": null,
   "id": "8d28d7bb-e6f3-44d2-91bc-19824c70e01c",
   "metadata": {},
   "outputs": [],
   "source": [
    "protocol = split_url[0]\n",
    "store_id = split_url[3]"
   ]
  },
  {
   "cell_type": "code",
   "execution_count": 1,
   "id": "907d5a0b-039b-4cf1-998d-1242322c95ce",
   "metadata": {},
   "outputs": [
    {
     "data": {
      "text/plain": [
       "False"
      ]
     },
     "execution_count": 1,
     "metadata": {},
     "output_type": "execute_result"
    }
   ],
   "source": [
    "def is_even(number):\n",
    "    if number % 2 == 0:\n",
    "        return True\n",
    "    return False\n",
    "is_even(19)"
   ]
  },
  {
   "cell_type": "code",
   "execution_count": 3,
   "id": "939bc76a-0a02-415c-963a-ac7c3e7c10fc",
   "metadata": {},
   "outputs": [
    {
     "name": "stdout",
     "output_type": "stream",
     "text": [
      "7\n"
     ]
    }
   ],
   "source": [
    "url = \"https://exampleURL1.com/r626c36\"\n",
    "\n",
    "# 1. Omitting the last value of the slice implies a value of the len(string)\n",
    "id = url[-7:]\n",
    "\n",
    "# 2.\n",
    "print(len(id))\n"
   ]
  },
  {
   "cell_type": "code",
   "execution_count": 5,
   "id": "b0122669-7e80-4b4a-a56e-913e08215ebe",
   "metadata": {},
   "outputs": [
    {
     "data": {
      "text/plain": [
       "'https:'"
      ]
     },
     "execution_count": 5,
     "metadata": {},
     "output_type": "execute_result"
    }
   ],
   "source": [
    "url = \"https://exampleURL1.com/r626c36\"\n",
    "url[0:6]"
   ]
  },
  {
   "cell_type": "code",
   "execution_count": 7,
   "id": "c6037e08-c71b-42f0-900c-53c1a5ee2922",
   "metadata": {},
   "outputs": [
    {
     "data": {
      "text/plain": [
       "7"
      ]
     },
     "execution_count": 7,
     "metadata": {},
     "output_type": "execute_result"
    }
   ],
   "source": [
    "url = \"https://exampleURL1.com/rb626c36\"\n",
    "len(url[-7:])"
   ]
  },
  {
   "cell_type": "code",
   "execution_count": 42,
   "id": "3c5f1967-6fcd-44ed-9a57-8f28e8058feb",
   "metadata": {},
   "outputs": [
    {
     "name": "stdout",
     "output_type": "stream",
     "text": [
      "hFtps: is an invalid protocol. \n",
      "rF626c36 is an invalid store ID.\n"
     ]
    }
   ],
   "source": [
    "# The correct URL protocol is https: \n",
    "# A valid store ID must have exactly seven characters\n",
    "# function\n",
    "def url_checker(url):\n",
    "    split_url= url.split('/')       # split the url to be able to save the variables\n",
    "    protocol = split_url[0]\n",
    "    store_id = split_url[3]\n",
    "    # condition 1\n",
    "    if protocol != 'https:' and len(store_id) != 7:\n",
    "        print(f'{protocol} is an invalid protocol. \\n{store_id} is an invalid store ID.')\n",
    "    # condition 2\n",
    "    elif protocol != 'https:' and len(store_id) == 7:\n",
    "        print(f'{protocol} is an invalid protocol.')\n",
    "    # condition 3\n",
    "    elif protocol == 'https:' and len(store_id) != 7:\n",
    "        print(f'{store_id} is an invalid store ID.')\n",
    "    # condition 4\n",
    "    else: \n",
    "        return store_id\n",
    "\n",
    "\n",
    "\n",
    "\n",
    "# check your function\n",
    "url_checker('hFtps://exampleURL1.com/rF626c36')"
   ]
  }
 ],
 "metadata": {
  "kernelspec": {
   "display_name": "Python 3 (ipykernel)",
   "language": "python",
   "name": "python3"
  },
  "language_info": {
   "codemirror_mode": {
    "name": "ipython",
    "version": 3
   },
   "file_extension": ".py",
   "mimetype": "text/x-python",
   "name": "python",
   "nbconvert_exporter": "python",
   "pygments_lexer": "ipython3",
   "version": "3.12.2"
  }
 },
 "nbformat": 4,
 "nbformat_minor": 5
}

{
 "cells": [
  {
   "cell_type": "code",
   "execution_count": 45,
   "id": "92cdd1df-ae03-40e1-8b24-b8b6e91ec20c",
   "metadata": {},
   "outputs": [
    {
     "name": "stdout",
     "output_type": "stream",
     "text": [
      "add a list of scores from 1-10 to the score_counter argument\n",
      "sample: [1, 2, 3, 4, 5, 6, 7, 8, 9, 10] \n",
      "Negative: 5\n",
      "Neutral: 3\n",
      "Positive: 2\n"
     ]
    }
   ],
   "source": [
    "'''\n",
    "Task 1: Iterating with if, elif, and else\n",
    "Define a fuction called score_counter that will count the negative, neutral and the positive scores.\n",
    "    Arguments: \n",
    "        score-list: a list of customer-submitted scores, where each score is an integer from 1 to 10.\n",
    "        \n",
    "    Outputs: \n",
    "        score_counter([1,2,3,4,5,6,7,8,9,10])\n",
    "        'Negative: {number_of_negative_scores}' for scores 1-5\n",
    "        'Neutral: {number_of_neutral_scores}'   for scores 6-8\n",
    "        'Positive: {number_of_positive_scores}' for scores 9-10\n",
    "'''\n",
    "def score_counter(score_list):\n",
    "    # initiate counters:\n",
    "    negative = 0\n",
    "    positive = 0\n",
    "    neutral = 0\n",
    "    \n",
    "    # for statement\n",
    "    for score in score_list:\n",
    "        if score <= 5:                                \n",
    "            negative = negative + 1           # if the score in between 1-5, the negative counter will update its value\n",
    "        elif score >= 9:\n",
    "            positive = positive + 1           # if the score is between 9-10, the positive counter will update its value\n",
    "        else:\n",
    "            neutral = neutral + 1             # if the score is not applicable ot the above condition, the neutral counter will update\n",
    "    \n",
    "    # outputs:\n",
    "    print(\"Negative: \" + str(negative))\n",
    "    print(\"Neutral: \" + str(neutral))\n",
    "    print(\"Positive: \" + str(positive))\n",
    "    \n",
    "# check you code:\n",
    "print(\"add a list of scores from 1-10 to the score_counter argument\")\n",
    "print(\"sample: [1, 2, 3, 4, 5, 6, 7, 8, 9, 10] \")\n",
    "score_counter([1,2,3,4,5,6,7,8,9,10])"
   ]
  },
  {
   "cell_type": "code",
   "execution_count": 53,
   "id": "7dec9aee-7808-4102-92aa-74443969a2f4",
   "metadata": {},
   "outputs": [
    {
     "name": "stdout",
     "output_type": "stream",
     "text": [
      "1 of 3 IDs unverified.\n"
     ]
    }
   ],
   "source": [
    "'''\n",
    "Task 2: Create a for loop using if, not, and in\n",
    "Define a function called id_validator to identify how many scores came from verified customers.\n",
    "    Arguments:\n",
    "        verified_ids - a list containing IDs of verified customers\n",
    "        feedback_ids - a list containing unique IDs of all posters of feedback scores\n",
    "\n",
    "    Output:\n",
    "        '{number_of_unverified_ids} of {number_of_feedback_ids} IDs unverified\n",
    "        '{percent} unverified'\n",
    "'''\n",
    "def id_validator(verified_ids, feedback_ids):\n",
    "    # initiate counter\n",
    "    number_of_feedback_ids = 0\n",
    "    number_unverified_ids = 0\n",
    "    \n",
    "    # for using if, not, in\n",
    "    for id in feedback_ids:\n",
    "        if id not in verified_ids:\n",
    "            number_unverified_ids = number_unverified_ids + 1\n",
    "        number_of_feedback_ids += 1 \n",
    "        \n",
    "    # print statement\n",
    "    print(str(number_unverified_ids) + ' of ' + str(number_of_feedback_ids) + ' IDs unverified.')\n",
    "    \n",
    "# check your code:\n",
    "id_validator([1,2],[1,2,3])"
   ]
  },
  {
   "cell_type": "code",
   "execution_count": 72,
   "id": "aaac9241-a1b1-4a2b-a4a4-0657037bcb77",
   "metadata": {},
   "outputs": [
    {
     "name": "stdout",
     "output_type": "stream",
     "text": [
      "Igor\n",
      "Sokolov\n",
      "\n",
      "Riko\n",
      "Miyazaki\n",
      "\n",
      "Tuva\n",
      "Johansen\n",
      "\n"
     ]
    }
   ],
   "source": [
    "# example of nested loop\n",
    "students = [['Igor', 'Sokolov'], ['Riko', 'Miyazaki'], ['Tuva' ,'Johansen']]\n",
    "\n",
    "for student in students:        # first loop is for the outer loop with list of students\n",
    "    for name in student:        # nested loop is for the inner loop sample: ['Riyo', 'Miyazaki']\n",
    "        print(name)\n",
    "    print()"
   ]
  },
  {
   "cell_type": "code",
   "execution_count": 91,
   "id": "db3915ea-9783-4467-bb04-4eadc14fa373",
   "metadata": {},
   "outputs": [
    {
     "data": {
      "text/plain": [
       "2"
      ]
     },
     "execution_count": 91,
     "metadata": {},
     "output_type": "execute_result"
    }
   ],
   "source": [
    "'''\n",
    "Task 3: Create a nested loop\n",
    "Write a function called purchases_100 to return the number of customer that purchased $100 or more.\n",
    "    Arguments:\n",
    "        sales - a list of lists where each inner list contains the prices of items purchased by a unique customer\n",
    "\n",
    "    Return:\n",
    "        number - number of customers whose purchases summed to $100 or more\n",
    "'''\n",
    "def purchases_100(sales):\n",
    "    # iniate value\n",
    "    counter = 0\n",
    "    customer_total_price = 0\n",
    "    # for loop\n",
    "    for customer in sales:\n",
    "        for purchase_price in customer:\n",
    "            customer_total_price = customer_total_price + purchase_price\n",
    "        if customer_total_price >= 100:\n",
    "                counter += 1\n",
    "    # return     \n",
    "    return counter\n",
    "       \n",
    "    \n",
    "\n",
    "\n",
    "# check code:\n",
    "purchases_100([[2.75], [50.0, 50.0], [150.46, 200.12, 111.30]])"
   ]
  }
 ],
 "metadata": {
  "kernelspec": {
   "display_name": "Python 3 (ipykernel)",
   "language": "python",
   "name": "python3"
  },
  "language_info": {
   "codemirror_mode": {
    "name": "ipython",
    "version": 3
   },
   "file_extension": ".py",
   "mimetype": "text/x-python",
   "name": "python",
   "nbconvert_exporter": "python",
   "pygments_lexer": "ipython3",
   "version": "3.12.2"
  }
 },
 "nbformat": 4,
 "nbformat_minor": 5
}
